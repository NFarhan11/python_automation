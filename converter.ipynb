{
 "cells": [
  {
   "cell_type": "markdown",
   "id": "b21f41a3-89a8-4911-9444-847def05df77",
   "metadata": {},
   "source": [
    "### Convert XLS into XLSX excel"
   ]
  },
  {
   "cell_type": "code",
   "execution_count": 1,
   "id": "d4422b3e-9e57-44cc-9288-eecf7aee882d",
   "metadata": {
    "tags": []
   },
   "outputs": [],
   "source": [
    "import os # import os\n",
    "import win32com.client as client # import client"
   ]
  },
  {
   "cell_type": "code",
   "execution_count": 2,
   "id": "45e6abc7-904f-4585-be77-051e4cc1f01f",
   "metadata": {
    "tags": []
   },
   "outputs": [],
   "source": [
    "excel = client.Dispatch(\"excel.application\") # create excel object"
   ]
  },
  {
   "cell_type": "code",
   "execution_count": 3,
   "id": "d1e182ec-57a3-46c8-b1c4-9db7c89b85a3",
   "metadata": {
    "tags": []
   },
   "outputs": [],
   "source": [
    "for file in os.listdir(os.getcwd() +\"/xls_version/\"): # get every file in xls folder\n",
    "    filename, fileextension = os.path.splitext(file) # split filename and extension\n",
    "    wb = excel.Workbooks.Open(os.getcwd() + \"/xls_version/\" + file) # open each excel file\n",
    "    \n",
    "    output_path = os.getcwd() + \"/xlsx_version/\" + filename # set the output path\n",
    "    \n",
    "    wb.SaveAs(output_path, 51) # save as excel workbook\n",
    "    wb.Close()\n",
    "excel.Quit()"
   ]
  },
  {
   "cell_type": "markdown",
   "id": "7b4eabee-af4b-4edd-b532-ca61ead099d3",
   "metadata": {},
   "source": [
    "### Merge XLSX excel file into 1"
   ]
  },
  {
   "cell_type": "code",
   "execution_count": 4,
   "id": "62953c6f-da8a-4053-b723-aaeba91c82d2",
   "metadata": {
    "tags": []
   },
   "outputs": [],
   "source": [
    "# import pandas\n",
    "import pandas as pd"
   ]
  },
  {
   "cell_type": "code",
   "execution_count": 5,
   "id": "a8a02a54-f38b-4334-af65-8167bb3b6792",
   "metadata": {},
   "outputs": [],
   "source": [
    "input_location = \"C:/Users/User/Desktop/automate_python/xlsx_version/\" # set input folder location\n",
    "output_location = \"C:/Users/User/Desktop/automate_python/\" # set output folder location"
   ]
  },
  {
   "cell_type": "code",
   "execution_count": 6,
   "id": "2163c281-5450-486d-a764-e513141b92af",
   "metadata": {
    "tags": []
   },
   "outputs": [
    {
     "data": {
      "text/plain": [
       "['20230316_062120-Userlist.xlsx', '20230316_062121-Userlist.xlsx']"
      ]
     },
     "execution_count": 6,
     "metadata": {},
     "output_type": "execute_result"
    }
   ],
   "source": [
    "file_list = os.listdir(input_location) # get list of files in directory\n",
    "file_list"
   ]
  },
  {
   "cell_type": "code",
   "execution_count": 8,
   "id": "037a0e74-7d3a-4405-8f01-0689a7d22d5a",
   "metadata": {},
   "outputs": [],
   "source": [
    "# Loop through files\n",
    "append_list = [] # empty list\n",
    "for files in file_list:\n",
    "    if files.endswith(\".xlsx\"): # check only excel files\n",
    "        df = pd.read_excel(input_location + files) # read each excels into dataframes\n",
    "        append_list.append(df) # append dataframes into the list\n",
    "\n",
    "append_list = pd.concat(append_list) # concatenate the list\n",
    "append_list.to_excel(output_location + \"MASTER_FILE.xlsx\") # export as excel"
   ]
  },
  {
   "cell_type": "markdown",
   "id": "431e68ad-72a9-4b66-acb7-47ec79e19d42",
   "metadata": {},
   "source": [
    "**Note:**\n",
    "\n",
    "* Automate formatting table etc."
   ]
  },
  {
   "cell_type": "code",
   "execution_count": null,
   "id": "3ccdf9cd-1495-4da2-817c-6c3f30c11210",
   "metadata": {},
   "outputs": [],
   "source": []
  }
 ],
 "metadata": {
  "kernelspec": {
   "display_name": "Python 3 (ipykernel)",
   "language": "python",
   "name": "python3"
  },
  "language_info": {
   "codemirror_mode": {
    "name": "ipython",
    "version": 3
   },
   "file_extension": ".py",
   "mimetype": "text/x-python",
   "name": "python",
   "nbconvert_exporter": "python",
   "pygments_lexer": "ipython3",
   "version": "3.11.2"
  }
 },
 "nbformat": 4,
 "nbformat_minor": 5
}
